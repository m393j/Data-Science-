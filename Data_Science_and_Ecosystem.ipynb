{
  "nbformat": 4,
  "nbformat_minor": 0,
  "metadata": {
    "colab": {
      "provenance": [],
      "authorship_tag": "ABX9TyNG2lFzDMWiG9oecDZPUlCZ",
      "include_colab_link": true
    },
    "kernelspec": {
      "name": "python3",
      "display_name": "Python 3"
    },
    "language_info": {
      "name": "python"
    }
  },
  "cells": [
    {
      "cell_type": "markdown",
      "metadata": {
        "id": "view-in-github",
        "colab_type": "text"
      },
      "source": [
        "<a href=\"https://colab.research.google.com/github/m393j/Data-Science-/blob/main/Data_Science_and_Ecosystem.ipynb\" target=\"_parent\"><img src=\"https://colab.research.google.com/assets/colab-badge.svg\" alt=\"Open In Colab\"/></a>"
      ]
    },
    {
      "cell_type": "markdown",
      "source": [
        "### DATA SCIENCE TOOLS AND ECOSYSTEM"
      ],
      "metadata": {
        "id": "UYpFW8DcneVN"
      }
    },
    {
      "cell_type": "code",
      "execution_count": 9,
      "metadata": {
        "collapsed": true,
        "id": "hNkZKQyzlc-d",
        "colab": {
          "base_uri": "https://localhost:8080/"
        },
        "outputId": "8625ecf4-0cd8-47d0-bc90-4a67c9843dad"
      },
      "outputs": [
        {
          "output_type": "stream",
          "name": "stdout",
          "text": [
            "Data Science Tools and Ecosystem\n"
          ]
        }
      ],
      "source": [
        "print(\"Data Science Tools and Ecosystem\")"
      ]
    },
    {
      "cell_type": "markdown",
      "source": [
        "In this notebook, Data Science Tools and Ecosystems are summarized."
      ],
      "metadata": {
        "id": "vUrWOe2_hXzM"
      }
    },
    {
      "cell_type": "markdown",
      "source": [
        "Some of the popular languages that Data Scientists use are:\n",
        "\n",
        "\n",
        "*   Python\n",
        "*   R\n",
        "*   SQL\n",
        "\n",
        "\n",
        "\n",
        "\n"
      ],
      "metadata": {
        "id": "bxGyLMhYiZV3"
      }
    },
    {
      "cell_type": "markdown",
      "source": [
        "Some of the commonly used libraries used by Data Scientists include:\n",
        "\n",
        "*  Pandas\n",
        "*  SciPy\n",
        "*  TensorFlwo\n",
        "*  Keras\n"
      ],
      "metadata": {
        "id": "U953bN4RjddE"
      }
    },
    {
      "cell_type": "markdown",
      "source": [
        "| Data Science Tools |\n",
        "|---|\n",
        "| Apache Spark |\n",
        "| Jupyter Notebook |\n",
        "| Matplotlib |"
      ],
      "metadata": {
        "id": "_M5fkBeRqyd2"
      }
    },
    {
      "cell_type": "markdown",
      "source": [
        "###Below are a few examples of evaluating arithmetic expressions in Python"
      ],
      "metadata": {
        "id": "BivROJPhnGD2"
      }
    },
    {
      "cell_type": "code",
      "source": [
        "(5*5)+2"
      ],
      "metadata": {
        "id": "_AyPfT0opISC",
        "colab": {
          "base_uri": "https://localhost:8080/"
        },
        "outputId": "a6789f88-80fd-4a67-8764-68ee1429ee61"
      },
      "execution_count": 7,
      "outputs": [
        {
          "output_type": "execute_result",
          "data": {
            "text/plain": [
              "27"
            ]
          },
          "metadata": {},
          "execution_count": 7
        }
      ]
    },
    {
      "cell_type": "markdown",
      "source": [
        "27"
      ],
      "metadata": {
        "id": "mCFhV_IrrnNw"
      }
    },
    {
      "cell_type": "code",
      "source": [
        "200/60"
      ],
      "metadata": {
        "colab": {
          "base_uri": "https://localhost:8080/"
        },
        "id": "oXccoSxBsVVu",
        "outputId": "3662541a-eb25-4434-9a89-40bafb337b45"
      },
      "execution_count": 10,
      "outputs": [
        {
          "output_type": "execute_result",
          "data": {
            "text/plain": [
              "3.3333333333333335"
            ]
          },
          "metadata": {},
          "execution_count": 10
        }
      ]
    },
    {
      "cell_type": "markdown",
      "source": [
        "Exercise #10: Insert a markdown cell to list Objectives.\n",
        "\n",
        "Below you'll find one of the main objectives in data science:\n",
        "\n",
        "1. Collecting data\n",
        "2. Agreeing on the assignement\n",
        "3. Exploring and visualizing data\n",
        "4. Analyzing data and/or applying machine learning\n",
        "5. Decicing or planning based on acquired insight"
      ],
      "metadata": {
        "id": "8-auvtz_uIu3"
      }
    },
    {
      "cell_type": "markdown",
      "source": [
        "###Author\n",
        "Mohammed Gamal"
      ],
      "metadata": {
        "id": "-6mPnav5sfxY"
      }
    }
  ]
}